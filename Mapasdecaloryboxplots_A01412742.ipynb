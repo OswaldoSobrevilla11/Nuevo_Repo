{
  "nbformat": 4,
  "nbformat_minor": 0,
  "metadata": {
    "colab": {
      "provenance": []
    },
    "kernelspec": {
      "name": "python3",
      "display_name": "Python 3"
    },
    "language_info": {
      "name": "python"
    }
  },
  "cells": [
    {
      "cell_type": "code",
      "execution_count": 7,
      "metadata": {
        "id": "eHCB18dDYd4A"
      },
      "outputs": [],
      "source": [
        "import pandas as pd\n",
        "import matplotlib.pyplot as plt\n",
        "import seaborn as sns"
      ]
    },
    {
      "cell_type": "code",
      "source": [
        "df = pd.read_csv(\"Litros_y_Servicios_ASA_2015-2022.csv\")\n",
        "print(df.head(10))"
      ],
      "metadata": {
        "id": "DOs29DiukK5y"
      },
      "execution_count": null,
      "outputs": []
    },
    {
      "cell_type": "code",
      "source": [
        "fig = plt.figure(figsize=(5,5))\n",
        "\n",
        "plt.scatter(df['Litros de combustible suministrado'],df['Servicios realizados'], marker=\"*\", label=\"Correlación\")\n",
        "\n",
        "plt.xlabel(\"Litros de combustible suministrado\")\n",
        "plt.ylabel(\"Servicios realizados\")\n",
        "plt.title(\"Litros de combustible suministrado vs Servicios realizados\")\n",
        "\n",
        "plt.legend()\n",
        "plt.grid(True)"
      ],
      "metadata": {
        "id": "PEImbZRImnUB"
      },
      "execution_count": null,
      "outputs": []
    },
    {
      "cell_type": "code",
      "source": [
        "from matplotlib import figure\n",
        "fig = plt.figure(figsize=(9,5))\n",
        "sns.boxplot(data=df,y=\"Estado \",x=\"Litros de combustible suministrado\")\n",
        "plt.title(\"BoxPlot Litros de combustible suministrado\")"
      ],
      "metadata": {
        "id": "tSnZ_WF3onBn"
      },
      "execution_count": null,
      "outputs": []
    },
    {
      "cell_type": "code",
      "source": [
        "corr = df.corr()\n",
        "sns.heatmap(data=corr, vmin=-1, vmax=1, cmap=\"YlOrRd\", annot=True)"
      ],
      "metadata": {
        "id": "dazo9Ytmrv1N"
      },
      "execution_count": null,
      "outputs": []
    },
    {
      "cell_type": "code",
      "source": [
        "sns.pairplot(data=df, hue='Litros de combustible suministrado')"
      ],
      "metadata": {
        "id": "0Vr8rL5Osa6D"
      },
      "execution_count": null,
      "outputs": []
    },
    {
      "cell_type": "code",
      "source": [
        "sns.pairplot(data=df, hue='Servicios realizados')"
      ],
      "metadata": {
        "id": "mX735vqgsyRu"
      },
      "execution_count": null,
      "outputs": []
    }
  ]
}