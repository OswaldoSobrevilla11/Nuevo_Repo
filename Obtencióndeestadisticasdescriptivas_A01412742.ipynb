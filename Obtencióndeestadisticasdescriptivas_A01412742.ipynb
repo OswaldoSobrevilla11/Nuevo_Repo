{
  "nbformat": 4,
  "nbformat_minor": 0,
  "metadata": {
    "colab": {
      "provenance": []
    },
    "kernelspec": {
      "name": "python3",
      "display_name": "Python 3"
    },
    "language_info": {
      "name": "python"
    }
  },
  "cells": [
    {
      "cell_type": "code",
      "execution_count": 62,
      "metadata": {
        "id": "F_op1YzLViNR"
      },
      "outputs": [],
      "source": [
        "# Imports\n",
        "import pandas as pd"
      ]
    },
    {
      "cell_type": "code",
      "source": [
        "#Importar Tabla\n",
        "df = pd.read_csv(\"Litros_y_Servicios_ASA_2015-2022.csv\")\n",
        "print(df.head(10))"
      ],
      "metadata": {
        "id": "RH922C2iVvbi"
      },
      "execution_count": null,
      "outputs": []
    },
    {
      "cell_type": "code",
      "source": [
        "print(df.describe())"
      ],
      "metadata": {
        "id": "_ZF_ZHRrXsSW"
      },
      "execution_count": null,
      "outputs": []
    },
    {
      "cell_type": "code",
      "source": [
        "#Media\n",
        "df.groupby(['Estado ']).mean()"
      ],
      "metadata": {
        "id": "VTTTp7RIeB3X"
      },
      "execution_count": null,
      "outputs": []
    },
    {
      "cell_type": "code",
      "source": [
        "#Mediana\n",
        "df.groupby(['Estado ']).median()"
      ],
      "metadata": {
        "id": "F8SHp4jAhovM"
      },
      "execution_count": null,
      "outputs": []
    },
    {
      "cell_type": "code",
      "source": [
        "#Desviacion Estandar\n",
        "df.groupby(['Estado ']).std()"
      ],
      "metadata": {
        "id": "wdq4vY2FlmCs"
      },
      "execution_count": null,
      "outputs": []
    },
    {
      "cell_type": "code",
      "source": [
        "#Min\n",
        "df.groupby(['Estado ']).min()"
      ],
      "metadata": {
        "id": "w38KTvyCmNVD"
      },
      "execution_count": null,
      "outputs": []
    },
    {
      "cell_type": "code",
      "source": [
        "#Max\n",
        "df.groupby(['Estado ']).max()"
      ],
      "metadata": {
        "id": "kIyKuYX_mS09"
      },
      "execution_count": null,
      "outputs": []
    }
  ]
}